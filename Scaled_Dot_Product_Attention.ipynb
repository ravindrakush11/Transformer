{
  "cells": [
    {
      "cell_type": "code",
      "source": [
        "import torch\n",
        "import torch.nn.functional as F\n",
        "\n",
        "def scaled_dot_product_attention(query, key, value, mask=None):\n",
        "  matmul_qk = torch.matmul(query, key.transpose(-2, -1))\n",
        "\n",
        "# Scaling of the dot product by square root of the key dimension\n",
        "  dk = key.size()[-1]\n",
        "  scaled_attention_logits = matmul_qk / torch.sqrt(torch.tensor(dk, dtype=torch.float32))\n",
        "\n",
        "# Masking if provided\n",
        "  if mask is not None:\n",
        "    scaled_attention_logits = scaled_attention_logits + (mask * -1e9)\n",
        "\n",
        "  attention_weights = F.softmax(scaled_attention_logits, dim=-1)\n",
        "  output = torch.matmul(attention_weights, value)\n",
        "  return output, attention_weights"
      ],
      "metadata": {
        "id": "leq8gioxnkR3"
      },
      "execution_count": 1,
      "outputs": []
    },
    {
      "cell_type": "code",
      "source": [
        "def test_scaled_dot_product_attention():\n",
        "  torch.manual_seed(0)\n",
        "\n",
        "  batch_size = 1\n",
        "  seq_len = 5\n",
        "  d_k = 64\n",
        "\n",
        "  query = torch.randn(batch_size, seq_len, d_k)\n",
        "  key = torch.randn(batch_size, seq_len, d_k)\n",
        "  value = torch.randn(batch_size, seq_len, d_k)\n",
        "  mask = None\n",
        "\n",
        "  output, attention_weights = scaled_dot_product_attention(query, key, value, mask)\n",
        "  # print(\"Output:\")\n",
        "  # print(output)\n",
        "  print(\"Attention Weights:\")\n",
        "  print(attention_weights)\n",
        "\n",
        "test_scaled_dot_product_attention()"
      ],
      "metadata": {
        "colab": {
          "base_uri": "https://localhost:8080/"
        },
        "id": "DFJmd_j8e60-",
        "outputId": "5cf85f6a-8fbb-41b8-d573-856a69db067c"
      },
      "execution_count": 2,
      "outputs": [
        {
          "output_type": "stream",
          "name": "stdout",
          "text": [
            "Attention Weights:\n",
            "tensor([[[0.1289, 0.1020, 0.3652, 0.1170, 0.2869],\n",
            "         [0.1229, 0.1987, 0.0404, 0.4620, 0.1760],\n",
            "         [0.4934, 0.1396, 0.0509, 0.0403, 0.2759],\n",
            "         [0.2127, 0.1136, 0.3153, 0.0549, 0.3035],\n",
            "         [0.1189, 0.3081, 0.2382, 0.2010, 0.1338]]])\n"
          ]
        }
      ]
    },
    {
      "cell_type": "code",
      "source": [],
      "metadata": {
        "id": "Iom_4q-pp1Np"
      },
      "execution_count": null,
      "outputs": []
    }
  ],
  "metadata": {
    "colab": {
      "provenance": [],
      "authorship_tag": "ABX9TyNOjrwYe3VRKNNpZ0lywqke"
    },
    "kernelspec": {
      "display_name": "Python 3",
      "name": "python3"
    },
    "language_info": {
      "name": "python"
    }
  },
  "nbformat": 4,
  "nbformat_minor": 0
}